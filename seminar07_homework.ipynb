{
  "nbformat": 4,
  "nbformat_minor": 0,
  "metadata": {
    "colab": {
      "name": "seminar07-homework.ipynb",
      "provenance": [],
      "collapsed_sections": [],
      "include_colab_link": true
    },
    "kernelspec": {
      "name": "python3",
      "display_name": "Python 3"
    }
  },
  "cells": [
    {
      "cell_type": "markdown",
      "metadata": {
        "id": "view-in-github",
        "colab_type": "text"
      },
      "source": [
        "<a href=\"https://colab.research.google.com/github/catavasia/ML_FIAN-21/blob/main/seminar07_homework.ipynb\" target=\"_parent\"><img src=\"https://colab.research.google.com/assets/colab-badge.svg\" alt=\"Open In Colab\"/></a>"
      ]
    },
    {
      "cell_type": "code",
      "metadata": {
        "id": "cF5wcLSHBOw-",
        "colab": {
          "base_uri": "https://localhost:8080/",
          "height": 376
        },
        "outputId": "94b11f32-89a2-4260-ccbe-89dd60851755"
      },
      "source": [
        "import matplotlib.pyplot as plt\n",
        "import pandas as pd\n",
        "from sklearn.datasets import fetch_california_housing\n",
        "from sklearn.model_selection import train_test_split\n",
        "\n",
        "\n",
        "dataset = fetch_california_housing()\n",
        "\n",
        "data = pd.DataFrame(dataset.data, columns=dataset.feature_names)\n",
        "data['target'] = dataset.target\n",
        "\n",
        "print(len(data))\n",
        "data.head(10)"
      ],
      "execution_count": 2,
      "outputs": [
        {
          "output_type": "stream",
          "name": "stdout",
          "text": [
            "20640\n"
          ]
        },
        {
          "output_type": "execute_result",
          "data": {
            "text/html": [
              "<div>\n",
              "<style scoped>\n",
              "    .dataframe tbody tr th:only-of-type {\n",
              "        vertical-align: middle;\n",
              "    }\n",
              "\n",
              "    .dataframe tbody tr th {\n",
              "        vertical-align: top;\n",
              "    }\n",
              "\n",
              "    .dataframe thead th {\n",
              "        text-align: right;\n",
              "    }\n",
              "</style>\n",
              "<table border=\"1\" class=\"dataframe\">\n",
              "  <thead>\n",
              "    <tr style=\"text-align: right;\">\n",
              "      <th></th>\n",
              "      <th>MedInc</th>\n",
              "      <th>HouseAge</th>\n",
              "      <th>AveRooms</th>\n",
              "      <th>AveBedrms</th>\n",
              "      <th>Population</th>\n",
              "      <th>AveOccup</th>\n",
              "      <th>Latitude</th>\n",
              "      <th>Longitude</th>\n",
              "      <th>target</th>\n",
              "    </tr>\n",
              "  </thead>\n",
              "  <tbody>\n",
              "    <tr>\n",
              "      <th>0</th>\n",
              "      <td>8.3252</td>\n",
              "      <td>41.0</td>\n",
              "      <td>6.984127</td>\n",
              "      <td>1.023810</td>\n",
              "      <td>322.0</td>\n",
              "      <td>2.555556</td>\n",
              "      <td>37.88</td>\n",
              "      <td>-122.23</td>\n",
              "      <td>4.526</td>\n",
              "    </tr>\n",
              "    <tr>\n",
              "      <th>1</th>\n",
              "      <td>8.3014</td>\n",
              "      <td>21.0</td>\n",
              "      <td>6.238137</td>\n",
              "      <td>0.971880</td>\n",
              "      <td>2401.0</td>\n",
              "      <td>2.109842</td>\n",
              "      <td>37.86</td>\n",
              "      <td>-122.22</td>\n",
              "      <td>3.585</td>\n",
              "    </tr>\n",
              "    <tr>\n",
              "      <th>2</th>\n",
              "      <td>7.2574</td>\n",
              "      <td>52.0</td>\n",
              "      <td>8.288136</td>\n",
              "      <td>1.073446</td>\n",
              "      <td>496.0</td>\n",
              "      <td>2.802260</td>\n",
              "      <td>37.85</td>\n",
              "      <td>-122.24</td>\n",
              "      <td>3.521</td>\n",
              "    </tr>\n",
              "    <tr>\n",
              "      <th>3</th>\n",
              "      <td>5.6431</td>\n",
              "      <td>52.0</td>\n",
              "      <td>5.817352</td>\n",
              "      <td>1.073059</td>\n",
              "      <td>558.0</td>\n",
              "      <td>2.547945</td>\n",
              "      <td>37.85</td>\n",
              "      <td>-122.25</td>\n",
              "      <td>3.413</td>\n",
              "    </tr>\n",
              "    <tr>\n",
              "      <th>4</th>\n",
              "      <td>3.8462</td>\n",
              "      <td>52.0</td>\n",
              "      <td>6.281853</td>\n",
              "      <td>1.081081</td>\n",
              "      <td>565.0</td>\n",
              "      <td>2.181467</td>\n",
              "      <td>37.85</td>\n",
              "      <td>-122.25</td>\n",
              "      <td>3.422</td>\n",
              "    </tr>\n",
              "    <tr>\n",
              "      <th>5</th>\n",
              "      <td>4.0368</td>\n",
              "      <td>52.0</td>\n",
              "      <td>4.761658</td>\n",
              "      <td>1.103627</td>\n",
              "      <td>413.0</td>\n",
              "      <td>2.139896</td>\n",
              "      <td>37.85</td>\n",
              "      <td>-122.25</td>\n",
              "      <td>2.697</td>\n",
              "    </tr>\n",
              "    <tr>\n",
              "      <th>6</th>\n",
              "      <td>3.6591</td>\n",
              "      <td>52.0</td>\n",
              "      <td>4.931907</td>\n",
              "      <td>0.951362</td>\n",
              "      <td>1094.0</td>\n",
              "      <td>2.128405</td>\n",
              "      <td>37.84</td>\n",
              "      <td>-122.25</td>\n",
              "      <td>2.992</td>\n",
              "    </tr>\n",
              "    <tr>\n",
              "      <th>7</th>\n",
              "      <td>3.1200</td>\n",
              "      <td>52.0</td>\n",
              "      <td>4.797527</td>\n",
              "      <td>1.061824</td>\n",
              "      <td>1157.0</td>\n",
              "      <td>1.788253</td>\n",
              "      <td>37.84</td>\n",
              "      <td>-122.25</td>\n",
              "      <td>2.414</td>\n",
              "    </tr>\n",
              "    <tr>\n",
              "      <th>8</th>\n",
              "      <td>2.0804</td>\n",
              "      <td>42.0</td>\n",
              "      <td>4.294118</td>\n",
              "      <td>1.117647</td>\n",
              "      <td>1206.0</td>\n",
              "      <td>2.026891</td>\n",
              "      <td>37.84</td>\n",
              "      <td>-122.26</td>\n",
              "      <td>2.267</td>\n",
              "    </tr>\n",
              "    <tr>\n",
              "      <th>9</th>\n",
              "      <td>3.6912</td>\n",
              "      <td>52.0</td>\n",
              "      <td>4.970588</td>\n",
              "      <td>0.990196</td>\n",
              "      <td>1551.0</td>\n",
              "      <td>2.172269</td>\n",
              "      <td>37.84</td>\n",
              "      <td>-122.25</td>\n",
              "      <td>2.611</td>\n",
              "    </tr>\n",
              "  </tbody>\n",
              "</table>\n",
              "</div>"
            ],
            "text/plain": [
              "   MedInc  HouseAge  AveRooms  AveBedrms  ...  AveOccup  Latitude  Longitude  target\n",
              "0  8.3252      41.0  6.984127   1.023810  ...  2.555556     37.88    -122.23   4.526\n",
              "1  8.3014      21.0  6.238137   0.971880  ...  2.109842     37.86    -122.22   3.585\n",
              "2  7.2574      52.0  8.288136   1.073446  ...  2.802260     37.85    -122.24   3.521\n",
              "3  5.6431      52.0  5.817352   1.073059  ...  2.547945     37.85    -122.25   3.413\n",
              "4  3.8462      52.0  6.281853   1.081081  ...  2.181467     37.85    -122.25   3.422\n",
              "5  4.0368      52.0  4.761658   1.103627  ...  2.139896     37.85    -122.25   2.697\n",
              "6  3.6591      52.0  4.931907   0.951362  ...  2.128405     37.84    -122.25   2.992\n",
              "7  3.1200      52.0  4.797527   1.061824  ...  1.788253     37.84    -122.25   2.414\n",
              "8  2.0804      42.0  4.294118   1.117647  ...  2.026891     37.84    -122.26   2.267\n",
              "9  3.6912      52.0  4.970588   0.990196  ...  2.172269     37.84    -122.25   2.611\n",
              "\n",
              "[10 rows x 9 columns]"
            ]
          },
          "metadata": {},
          "execution_count": 2
        }
      ]
    },
    {
      "cell_type": "code",
      "metadata": {
        "id": "R-dhzIu9HLcF",
        "colab": {
          "base_uri": "https://localhost:8080/"
        },
        "outputId": "31b519b1-13d0-4956-e0d0-cf6d1b70a11b"
      },
      "source": [
        "print(dataset.DESCR)"
      ],
      "execution_count": 3,
      "outputs": [
        {
          "output_type": "stream",
          "name": "stdout",
          "text": [
            ".. _california_housing_dataset:\n",
            "\n",
            "California Housing dataset\n",
            "--------------------------\n",
            "\n",
            "**Data Set Characteristics:**\n",
            "\n",
            "    :Number of Instances: 20640\n",
            "\n",
            "    :Number of Attributes: 8 numeric, predictive attributes and the target\n",
            "\n",
            "    :Attribute Information:\n",
            "        - MedInc        median income in block\n",
            "        - HouseAge      median house age in block\n",
            "        - AveRooms      average number of rooms\n",
            "        - AveBedrms     average number of bedrooms\n",
            "        - Population    block population\n",
            "        - AveOccup      average house occupancy\n",
            "        - Latitude      house block latitude\n",
            "        - Longitude     house block longitude\n",
            "\n",
            "    :Missing Attribute Values: None\n",
            "\n",
            "This dataset was obtained from the StatLib repository.\n",
            "http://lib.stat.cmu.edu/datasets/\n",
            "\n",
            "The target variable is the median house value for California districts.\n",
            "\n",
            "This dataset was derived from the 1990 U.S. census, using one row per census\n",
            "block group. A block group is the smallest geographical unit for which the U.S.\n",
            "Census Bureau publishes sample data (a block group typically has a population\n",
            "of 600 to 3,000 people).\n",
            "\n",
            "It can be downloaded/loaded using the\n",
            ":func:`sklearn.datasets.fetch_california_housing` function.\n",
            "\n",
            ".. topic:: References\n",
            "\n",
            "    - Pace, R. Kelley and Ronald Barry, Sparse Spatial Autoregressions,\n",
            "      Statistics and Probability Letters, 33 (1997) 291-297\n",
            "\n"
          ]
        }
      ]
    },
    {
      "cell_type": "markdown",
      "metadata": {
        "id": "ZtGrJYtvHIKT"
      },
      "source": [
        "This data contains 2 spacial features: `['Longitude', 'Latitude']`:"
      ]
    },
    {
      "cell_type": "code",
      "metadata": {
        "id": "-9cf0j7qBmTr",
        "colab": {
          "base_uri": "https://localhost:8080/",
          "height": 362
        },
        "outputId": "8005b284-2bf3-4786-9354-4ad9305b56b9"
      },
      "source": [
        "plt.figure(figsize=(5, 4), dpi=100)\n",
        "plt.scatter(data.Longitude, data.Latitude, s=data.target, c=data.target, cmap='bwr');"
      ],
      "execution_count": 4,
      "outputs": [
        {
          "output_type": "display_data",
          "data": {
            "image/png": "[encoded data removed]",
            "text/plain": [
              "<Figure size 500x400 with 1 Axes>"
            ]
          },
          "metadata": {
            "needs_background": "light"
          }
        }
      ]
    },
    {
      "cell_type": "markdown",
      "metadata": {
        "id": "53JksV8hLeqn"
      },
      "source": [
        "(Compare this plot with the map of California: https://en.wikipedia.org/wiki/California)"
      ]
    },
    {
      "cell_type": "markdown",
      "metadata": {
        "id": "OPHN4_8pH6qB"
      },
      "source": [
        "A kNN model might be quite reasonable to use on this 2D subspace.\n",
        "\n",
        "Let's first divide our data into train and test:"
      ]
    },
    {
      "cell_type": "code",
      "metadata": {
        "id": "l8boBXE9DsU9",
        "colab": {
          "base_uri": "https://localhost:8080/"
        },
        "outputId": "f0b94313-ffc9-43dc-db1d-5baa536ce3cc"
      },
      "source": [
        "X, y = data.drop('target', axis=1), data['target']\n",
        "X_train, X_test, y_train, y_test = train_test_split(X, y, test_size=0.25, random_state=1234)\n",
        "print(X_train.shape, X_test.shape, y_train.shape, y_test.shape)"
      ],
      "execution_count": 5,
      "outputs": [
        {
          "output_type": "stream",
          "name": "stdout",
          "text": [
            "(15480, 8) (5160, 8) (15480,) (5160,)\n"
          ]
        }
      ]
    },
    {
      "cell_type": "markdown",
      "metadata": {
        "id": "pA7ZadFQHD3n"
      },
      "source": [
        "# Task 1"
      ]
    },
    {
      "cell_type": "markdown",
      "metadata": {
        "id": "opXKafmeIJHl"
      },
      "source": [
        " - Build a kNN regressor on the `Longitude` and `Latitude` features\n",
        " - Build a random forest regressor on the rest of the features\n",
        " - Build a stacking regressor (`sklearn.ensemble.StackingRegressor`) with 5-fold cross-val-predict using the two models above as the base models and a linear regression model as the final (aggregating) estimator\n",
        " - Compare the test MSE losses of the 3 models above\n",
        " \n",
        "\n",
        "Make sure to have a look at the documentation: \n",
        "https://scikit-learn.org/stable/modules/ensemble.html#stacking\n",
        "\n",
        "You can make a pipeline (`sklearn.pipeline.make_pipeline`) with a `ColumnTransformer` (`sklearn.compose.make_column_transformer`) and a regression model (knn or random forest), where the `ColumnTransformer` will select the desired columns from the dataset (see the docs for the column transformer: https://scikit-learn.org/stable/modules/generated/sklearn.compose.make_column_transformer.html)."
      ]
    },
    {
      "cell_type": "code",
      "metadata": {
        "id": "BwU6mwZ_Chu0"
      },
      "source": [
        "from sklearn.compose import make_column_transformer\n",
        "from sklearn.pipeline import make_pipeline\n",
        "from sklearn.neighbors import KNeighborsRegressor\n",
        "from sklearn.ensemble import RandomForestRegressor, StackingRegressor\n",
        "from sklearn.linear_model import LinearRegression\n",
        "\n",
        "from sklearn.metrics import mean_squared_error\n",
        "\n",
        "import numpy as np\n",
        "from sklearn.compose import make_column_selector"
      ],
      "execution_count": 109,
      "outputs": []
    },
    {
      "cell_type": "code",
      "metadata": {
        "id": "FJ_qE0uJCYH-"
      },
      "source": [
        "MSE = []"
      ],
      "execution_count": 110,
      "outputs": []
    },
    {
      "cell_type": "markdown",
      "metadata": {
        "id": "GZwYg9JjthIn"
      },
      "source": [
        "# kNN regressor"
      ]
    },
    {
      "cell_type": "code",
      "metadata": {
        "id": "vdQRhLvSBuV1",
        "colab": {
          "base_uri": "https://localhost:8080/"
        },
        "outputId": "4ccb0083-ef21-4051-ea4f-0bbb986b0bb1"
      },
      "source": [
        "X_train_kNN = X_train[['Latitude', 'Longitude']]\n",
        "X_test_kNN = X_test[['Latitude', 'Longitude']]\n",
        "kNN = KNeighborsRegressor()\n",
        "kNN.fit(X_train_kNN, y_train)"
      ],
      "execution_count": 111,
      "outputs": [
        {
          "output_type": "execute_result",
          "data": {
            "text/plain": [
              "KNeighborsRegressor(algorithm='auto', leaf_size=30, metric='minkowski',\n",
              "                    metric_params=None, n_jobs=None, n_neighbors=5, p=2,\n",
              "                    weights='uniform')"
            ]
          },
          "metadata": {},
          "execution_count": 111
        }
      ]
    },
    {
      "cell_type": "code",
      "metadata": {
        "colab": {
          "base_uri": "https://localhost:8080/",
          "height": 532
        },
        "id": "A_z9wVwhrJYo",
        "outputId": "619cdca3-d7f2-43e2-d2c7-ea73b2cd5aba"
      },
      "source": [
        "y_pred_kNN = kNN.predict(X_test_kNN)\n",
        "\n",
        "MSE.append(mean_squared_error(y_test, y_pred_kNN))\n",
        "\n",
        "plot_hist(y_test, y_pred_kNN, 'kNN')"
      ],
      "execution_count": 112,
      "outputs": [
        {
          "output_type": "display_data",
          "data": {
            "image/png": "[encoded data removed]",
            "text/plain": [
              "<Figure size 720x576 with 1 Axes>"
            ]
          },
          "metadata": {
            "needs_background": "light"
          }
        }
      ]
    },
    {
      "cell_type": "markdown",
      "metadata": {
        "id": "zIsoiw7Ze4fo"
      },
      "source": [
        "# Random Forest"
      ]
    },
    {
      "cell_type": "code",
      "metadata": {
        "colab": {
          "base_uri": "https://localhost:8080/"
        },
        "id": "fwzU07yjg-er",
        "outputId": "f763d402-38ef-423c-aa4b-ea2634485926"
      },
      "source": [
        "X.keys()"
      ],
      "execution_count": 113,
      "outputs": [
        {
          "output_type": "execute_result",
          "data": {
            "text/plain": [
              "Index(['MedInc', 'HouseAge', 'AveRooms', 'AveBedrms', 'Population', 'AveOccup',\n",
              "       'Latitude', 'Longitude'],\n",
              "      dtype='object')"
            ]
          },
          "metadata": {},
          "execution_count": 113
        }
      ]
    },
    {
      "cell_type": "code",
      "metadata": {
        "id": "6E08jJjfs-HC"
      },
      "source": [
        "features_RF = X.keys()[:-2]"
      ],
      "execution_count": 114,
      "outputs": []
    },
    {
      "cell_type": "code",
      "metadata": {
        "id": "3R9WE259gScq"
      },
      "source": [
        "X_train_RF = X_train[features_RF]\n",
        "X_test_RF = X_test[features_RF]"
      ],
      "execution_count": 115,
      "outputs": []
    },
    {
      "cell_type": "code",
      "metadata": {
        "colab": {
          "base_uri": "https://localhost:8080/"
        },
        "id": "ZF5nv8VYhUXR",
        "outputId": "0dd7f861-8664-4823-aafd-8d1ec398dc13"
      },
      "source": [
        "RF = RandomForestRegressor(min_samples_leaf=5)\n",
        "RF.fit(X_train_RF, y_train)"
      ],
      "execution_count": 117,
      "outputs": [
        {
          "output_type": "execute_result",
          "data": {
            "text/plain": [
              "RandomForestRegressor(bootstrap=True, ccp_alpha=0.0, criterion='mse',\n",
              "                      max_depth=None, max_features='auto', max_leaf_nodes=None,\n",
              "                      max_samples=None, min_impurity_decrease=0.0,\n",
              "                      min_impurity_split=None, min_samples_leaf=5,\n",
              "                      min_samples_split=2, min_weight_fraction_leaf=0.0,\n",
              "                      n_estimators=100, n_jobs=None, oob_score=False,\n",
              "                      random_state=None, verbose=0, warm_start=False)"
            ]
          },
          "metadata": {},
          "execution_count": 117
        }
      ]
    },
    {
      "cell_type": "code",
      "metadata": {
        "colab": {
          "base_uri": "https://localhost:8080/",
          "height": 532
        },
        "id": "FyNLhk8ph4ew",
        "outputId": "cad698f2-7c7b-401e-b13d-422d1b71c3cd"
      },
      "source": [
        "y_pred_RF = RF.predict(X_test_RF)\n",
        "\n",
        "plot_hist(y_test, y_pred_RF, 'Random Forest')\n",
        "\n",
        "MSE.append(mean_squared_error(y_test, y_pred_RF))"
      ],
      "execution_count": 118,
      "outputs": [
        {
          "output_type": "display_data",
          "data": {
            "image/png": "[encoded data removed]",
            "text/plain": [
              "<Figure size 720x576 with 1 Axes>"
            ]
          },
          "metadata": {
            "needs_background": "light"
          }
        }
      ]
    },
    {
      "cell_type": "markdown",
      "metadata": {
        "id": "IqN6XO71iqOJ"
      },
      "source": [
        "# Stacking Regressor"
      ]
    },
    {
      "cell_type": "code",
      "metadata": {
        "id": "J-LQ6ugZrL4i"
      },
      "source": [
        "knn_pipeline = make_pipeline(make_column_transformer(\n",
        "                                                    (\"passthrough\", ['Latitude', 'Longitude'])\n",
        "                              ),\n",
        "                             KNeighborsRegressor()\n",
        ")"
      ],
      "execution_count": 119,
      "outputs": []
    },
    {
      "cell_type": "code",
      "metadata": {
        "colab": {
          "base_uri": "https://localhost:8080/"
        },
        "id": "TsI0c0qoySdD",
        "outputId": "aee3089e-ac13-413e-e2fd-905dcd9f5434"
      },
      "source": [
        "knn_pipeline"
      ],
      "execution_count": 120,
      "outputs": [
        {
          "output_type": "execute_result",
          "data": {
            "text/plain": [
              "Pipeline(memory=None,\n",
              "         steps=[('columntransformer',\n",
              "                 ColumnTransformer(n_jobs=None, remainder='drop',\n",
              "                                   sparse_threshold=0.3,\n",
              "                                   transformer_weights=None,\n",
              "                                   transformers=[('passthrough', 'passthrough',\n",
              "                                                  ['Latitude', 'Longitude'])],\n",
              "                                   verbose=False)),\n",
              "                ('kneighborsregressor',\n",
              "                 KNeighborsRegressor(algorithm='auto', leaf_size=30,\n",
              "                                     metric='minkowski', metric_params=None,\n",
              "                                     n_jobs=None, n_neighbors=5, p=2,\n",
              "                                     weights='uniform'))],\n",
              "         verbose=False)"
            ]
          },
          "metadata": {},
          "execution_count": 120
        }
      ]
    },
    {
      "cell_type": "code",
      "metadata": {
        "colab": {
          "base_uri": "https://localhost:8080/"
        },
        "id": "_ilGATyF9IEm",
        "outputId": "9f6bef57-eca0-456c-8779-991bee65e394"
      },
      "source": [
        "list(features_RF)"
      ],
      "execution_count": 121,
      "outputs": [
        {
          "output_type": "execute_result",
          "data": {
            "text/plain": [
              "['MedInc', 'HouseAge', 'AveRooms', 'AveBedrms', 'Population', 'AveOccup']"
            ]
          },
          "metadata": {},
          "execution_count": 121
        }
      ]
    },
    {
      "cell_type": "code",
      "metadata": {
        "id": "jL93AGk6wxrJ"
      },
      "source": [
        "rf_pipeline = make_pipeline(make_column_transformer(\n",
        "                                                    (\"passthrough\",list(features_RF))\n",
        "                                                    ),\n",
        "                             RandomForestRegressor()\n",
        ")"
      ],
      "execution_count": 122,
      "outputs": []
    },
    {
      "cell_type": "code",
      "metadata": {
        "colab": {
          "base_uri": "https://localhost:8080/"
        },
        "id": "24m0rvVq6Y9f",
        "outputId": "aca58f78-9b4c-4fa3-ad47-aa0405d50dc2"
      },
      "source": [
        "rf_pipeline"
      ],
      "execution_count": 123,
      "outputs": [
        {
          "output_type": "execute_result",
          "data": {
            "text/plain": [
              "Pipeline(memory=None,\n",
              "         steps=[('columntransformer',\n",
              "                 ColumnTransformer(n_jobs=None, remainder='drop',\n",
              "                                   sparse_threshold=0.3,\n",
              "                                   transformer_weights=None,\n",
              "                                   transformers=[('passthrough', 'passthrough',\n",
              "                                                  ['MedInc', 'HouseAge',\n",
              "                                                   'AveRooms', 'AveBedrms',\n",
              "                                                   'Population', 'AveOccup'])],\n",
              "                                   verbose=False)),\n",
              "                ('randomforestregressor',\n",
              "                 RandomForestRegressor(bootstrap=True, ccp_alpha=0.0,\n",
              "                                       criterion='mse', max_depth=None,\n",
              "                                       max_features='auto', max_leaf_nodes=None,\n",
              "                                       max_samples=None,\n",
              "                                       min_impurity_decrease=0.0,\n",
              "                                       min_impurity_split=None,\n",
              "                                       min_samples_leaf=1, min_samples_split=2,\n",
              "                                       min_weight_fraction_leaf=0.0,\n",
              "                                       n_estimators=100, n_jobs=None,\n",
              "                                       oob_score=False, random_state=None,\n",
              "                                       verbose=0, warm_start=False))],\n",
              "         verbose=False)"
            ]
          },
          "metadata": {},
          "execution_count": 123
        }
      ]
    },
    {
      "cell_type": "code",
      "metadata": {
        "id": "lOMDpRelmpAY"
      },
      "source": [
        "estimators = [\n",
        "    (\"Random Forest\", rf_pipeline),\n",
        "    (\"kNN\", knn_pipeline)\n",
        "]\n",
        "final_estimator = LinearRegression()"
      ],
      "execution_count": 124,
      "outputs": []
    },
    {
      "cell_type": "code",
      "metadata": {
        "colab": {
          "base_uri": "https://localhost:8080/"
        },
        "id": "4x1BHp0K5DtZ",
        "outputId": "63f62d10-c040-4ac9-9b83-056ab5510ace"
      },
      "source": [
        "reg = StackingRegressor(\n",
        "                        estimators=estimators,\n",
        "                        final_estimator=final_estimator\n",
        "                        )\n",
        "reg.estimators"
      ],
      "execution_count": 126,
      "outputs": [
        {
          "output_type": "execute_result",
          "data": {
            "text/plain": [
              "[('Random Forest', Pipeline(memory=None,\n",
              "           steps=[('columntransformer',\n",
              "                   ColumnTransformer(n_jobs=None, remainder='drop',\n",
              "                                     sparse_threshold=0.3,\n",
              "                                     transformer_weights=None,\n",
              "                                     transformers=[('passthrough', 'passthrough',\n",
              "                                                    ['MedInc', 'HouseAge',\n",
              "                                                     'AveRooms', 'AveBedrms',\n",
              "                                                     'Population', 'AveOccup'])],\n",
              "                                     verbose=False)),\n",
              "                  ('randomforestregressor',\n",
              "                   RandomForestRegressor(bootstrap=True, ccp_alpha=0.0,\n",
              "                                         criterion='mse', max_depth=None,\n",
              "                                         max_features='auto', max_leaf_nodes=None,\n",
              "                                         max_samples=None,\n",
              "                                         min_impurity_decrease=0.0,\n",
              "                                         min_impurity_split=None,\n",
              "                                         min_samples_leaf=1, min_samples_split=2,\n",
              "                                         min_weight_fraction_leaf=0.0,\n",
              "                                         n_estimators=100, n_jobs=None,\n",
              "                                         oob_score=False, random_state=None,\n",
              "                                         verbose=0, warm_start=False))],\n",
              "           verbose=False)), ('kNN', Pipeline(memory=None,\n",
              "           steps=[('columntransformer',\n",
              "                   ColumnTransformer(n_jobs=None, remainder='drop',\n",
              "                                     sparse_threshold=0.3,\n",
              "                                     transformer_weights=None,\n",
              "                                     transformers=[('passthrough', 'passthrough',\n",
              "                                                    ['Latitude', 'Longitude'])],\n",
              "                                     verbose=False)),\n",
              "                  ('kneighborsregressor',\n",
              "                   KNeighborsRegressor(algorithm='auto', leaf_size=30,\n",
              "                                       metric='minkowski', metric_params=None,\n",
              "                                       n_jobs=None, n_neighbors=5, p=2,\n",
              "                                       weights='uniform'))],\n",
              "           verbose=False))]"
            ]
          },
          "metadata": {},
          "execution_count": 126
        }
      ]
    },
    {
      "cell_type": "code",
      "metadata": {
        "colab": {
          "base_uri": "https://localhost:8080/"
        },
        "id": "EhDS2R335bQj",
        "outputId": "7f831da5-002d-4272-ac63-d6db6965063b"
      },
      "source": [
        "reg.fit(X_train, y_train)"
      ],
      "execution_count": 127,
      "outputs": [
        {
          "output_type": "execute_result",
          "data": {
            "text/plain": [
              "StackingRegressor(cv=None,\n",
              "                  estimators=[('Random Forest',\n",
              "                               Pipeline(memory=None,\n",
              "                                        steps=[('columntransformer',\n",
              "                                                ColumnTransformer(n_jobs=None,\n",
              "                                                                  remainder='drop',\n",
              "                                                                  sparse_threshold=0.3,\n",
              "                                                                  transformer_weights=None,\n",
              "                                                                  transformers=[('passthrough',\n",
              "                                                                                 'passthrough',\n",
              "                                                                                 ['MedInc',\n",
              "                                                                                  'HouseAge',\n",
              "                                                                                  'AveRooms',\n",
              "                                                                                  'AveBedrms',\n",
              "                                                                                  'Population',\n",
              "                                                                                  'AveOccup'])],\n",
              "                                                                  verbose=False)),\n",
              "                                               ('randomforestregressor'...\n",
              "                                                                                 ['Latitude',\n",
              "                                                                                  'Longitude'])],\n",
              "                                                                  verbose=False)),\n",
              "                                               ('kneighborsregressor',\n",
              "                                                KNeighborsRegressor(algorithm='auto',\n",
              "                                                                    leaf_size=30,\n",
              "                                                                    metric='minkowski',\n",
              "                                                                    metric_params=None,\n",
              "                                                                    n_jobs=None,\n",
              "                                                                    n_neighbors=5,\n",
              "                                                                    p=2,\n",
              "                                                                    weights='uniform'))],\n",
              "                                        verbose=False))],\n",
              "                  final_estimator=LinearRegression(copy_X=True,\n",
              "                                                   fit_intercept=True,\n",
              "                                                   n_jobs=None,\n",
              "                                                   normalize=False),\n",
              "                  n_jobs=None, passthrough=False, verbose=0)"
            ]
          },
          "metadata": {},
          "execution_count": 127
        }
      ]
    },
    {
      "cell_type": "code",
      "metadata": {
        "colab": {
          "base_uri": "https://localhost:8080/",
          "height": 532
        },
        "id": "hf0Yb42P51jt",
        "outputId": "2d57d65a-08b4-42c0-c34a-376bab08f8f6"
      },
      "source": [
        "y_pred_reg = reg.predict(X_test)\n",
        "\n",
        "plot_hist(y_test, y_pred_reg, 'Stacking Regressor')\n",
        "\n",
        "MSE.append(mean_squared_error(y_test, y_pred_reg))"
      ],
      "execution_count": 130,
      "outputs": [
        {
          "output_type": "display_data",
          "data": {
            "image/png": "[encoded data removed]",
            "text/plain": [
              "<Figure size 720x576 with 1 Axes>"
            ]
          },
          "metadata": {
            "needs_background": "light"
          }
        }
      ]
    },
    {
      "cell_type": "markdown",
      "metadata": {
        "id": "EQ9s1oKMBdLR"
      },
      "source": [
        "# Comparison"
      ]
    },
    {
      "cell_type": "code",
      "metadata": {
        "colab": {
          "base_uri": "https://localhost:8080/",
          "height": 821
        },
        "id": "tSzHEfmt-zCx",
        "outputId": "8a5af3af-4dbe-408f-a0e7-07d276803e3e"
      },
      "source": [
        "plt.figure(figsize=(15,13))\n",
        "plt.tick_params(labelsize=15)\n",
        "plt.hist(np.abs(y_test - y_pred_kNN), bins=20, label='kNN', histtype='step', linewidth=3)\n",
        "plt.hist(np.abs(y_test - y_pred_RF), histtype='step', bins=20, label='Random Forest', linewidth=3)\n",
        "plt.hist(np.abs(y_test - y_pred_reg),histtype='step', bins=20, label='Stacking Regressor', linewidth=3)\n",
        "plt.xlabel('отклонение', fontsize=20)\n",
        "plt.title('отклонение предсказаний моделей для тестовой выборки', fontsize=20)\n",
        "plt.legend()"
      ],
      "execution_count": 141,
      "outputs": [
        {
          "output_type": "execute_result",
          "data": {
            "text/plain": [
              "<matplotlib.legend.Legend at 0x7f2eb689ead0>"
            ]
          },
          "metadata": {},
          "execution_count": 141
        },
        {
          "output_type": "display_data",
          "data": {
            "image/png": "[encoded data removed]",
            "text/plain": [
              "<Figure size 1080x936 with 1 Axes>"
            ]
          },
          "metadata": {
            "needs_background": "light"
          }
        }
      ]
    },
    {
      "cell_type": "code",
      "metadata": {
        "colab": {
          "base_uri": "https://localhost:8080/"
        },
        "id": "TBJ52iXPBwr6",
        "outputId": "0656b0c1-da08-418c-ce87-9261aaafa8d1"
      },
      "source": [
        "models = ['kNN', 'Random Forest', 'Stacking Regressor']\n",
        "\n",
        "for i in range(len(models)):\n",
        "  print('model:', models[i], ', ', 'MSE =', MSE[i], '\\n')"
      ],
      "execution_count": 136,
      "outputs": [
        {
          "output_type": "stream",
          "name": "stdout",
          "text": [
            "model: kNN ,  MSE = 0.30089594142376896 \n",
            "\n",
            "model: Random Forest ,  MSE = 0.4215938892438269 \n",
            "\n",
            "model: Stacking Regressor ,  MSE = 0.23493177874583884 \n",
            "\n"
          ]
        }
      ]
    }
  ]
}