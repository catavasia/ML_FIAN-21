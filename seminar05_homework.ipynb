{
  "nbformat": 4,
  "nbformat_minor": 0,
  "metadata": {
    "colab": {
      "name": "seminar05_homework.ipynb",
      "provenance": [],
      "collapsed_sections": [],
      "include_colab_link": true
    },
    "kernelspec": {
      "name": "python3",
      "display_name": "Python 3"
    }
  },
  "cells": [
    {
      "cell_type": "markdown",
      "metadata": {
        "id": "view-in-github",
        "colab_type": "text"
      },
      "source": [
        "<a href=\"https://colab.research.google.com/github/catavasia/ML_FIAN-21/blob/main/seminar05_homework.ipynb\" target=\"_parent\"><img src=\"https://colab.research.google.com/assets/colab-badge.svg\" alt=\"Open In Colab\"/></a>"
      ]
    },
    {
      "cell_type": "markdown",
      "metadata": {
        "id": "Ij_zY4soDF2Z"
      },
      "source": [
        "# Cross-validation riddle"
      ]
    },
    {
      "cell_type": "markdown",
      "metadata": {
        "id": "qUCsY5OlDJPl"
      },
      "source": [
        "Here's a small example of cross-validation done wrongly. Can you spot the problem?"
      ]
    },
    {
      "cell_type": "code",
      "metadata": {
        "id": "mSUzkXsC-R4H"
      },
      "source": [
        "# Some imports...\n",
        "import numpy as np\n",
        "import matplotlib.pyplot as plt\n",
        "\n",
        "from sklearn.linear_model import LinearRegression\n",
        "from sklearn.svm import LinearSVC\n",
        "from sklearn.model_selection import KFold, cross_val_score\n",
        "from sklearn.metrics import accuracy_score\n",
        "\n",
        "from sklearn.model_selection import train_test_split\n",
        "import sklearn.metrics as skmetrics"
      ],
      "execution_count": 1,
      "outputs": []
    },
    {
      "cell_type": "markdown",
      "metadata": {
        "id": "ZyDp3Xc_DaDM"
      },
      "source": [
        "**Plan:**\n",
        "\n",
        "- Let's create a binary classification dataset where targets are completely independent from the features\n",
        "  - *(i.e. no model could ever predict them well)*\n",
        "- We'll do some simple feature selection\n",
        "- And cross-validate a model on this data\n",
        "\n",
        "**Q:** what accuracy do we expect (classes are even)?"
      ]
    },
    {
      "cell_type": "markdown",
      "metadata": {
        "id": "IHx51DKP8Rcf"
      },
      "source": [
        "We'll start from writing a class to select the best features:"
      ]
    },
    {
      "cell_type": "code",
      "metadata": {
        "colab": {
          "base_uri": "https://localhost:8080/"
        },
        "id": "CO9QJVATZrTE",
        "outputId": "518945ac-9320-4e1d-df62-705c6d20a1e3"
      },
      "source": [
        "(y[:,np.newaxis] - y.mean()).shape"
      ],
      "execution_count": 83,
      "outputs": [
        {
          "output_type": "execute_result",
          "data": {
            "text/plain": [
              "(100, 1)"
            ]
          },
          "metadata": {},
          "execution_count": 83
        }
      ]
    },
    {
      "cell_type": "code",
      "metadata": {
        "id": "rRNmKZJJ8W7x"
      },
      "source": [
        "class FeatureSelector:\n",
        "  def __init__(self, num_features):\n",
        "    self.n = num_features # number of best features to select\n",
        "\n",
        "  def fit(self, X, y):\n",
        "    # Select features that describe the targets best, i.e. have\n",
        "    # highest correlation with them:\n",
        "    covariance = ((X - X.mean(axis=0)) * (y[:,np.newaxis] - y.mean())).mean(axis=0)\n",
        "\n",
        "    # plt.figure(figsize=(10, 8))\n",
        "    # plt.hist(covariance)\n",
        "    # plt.xlabel('Covarience', fontsize=40)\n",
        "    # plt.ylabel('N', size=40)     \n",
        "    # plt.rc('xtick', labelsize=30)\n",
        "    # plt.rc('ytick', labelsize=30)\n",
        "\n",
        "    self.best_feature_ids = np.argsort(np.abs(covariance))[-self.n:]\n",
        "\n",
        "    # plt.figure(figsize=(10, 8))\n",
        "    # plt.hist(covariance[-self.n:])\n",
        "    # plt.xlabel('Covarience', fontsize=40)\n",
        "    # plt.ylabel('N', size=40)     \n",
        "\n",
        "\n",
        "\n",
        "  def transform(self, X):\n",
        "    return X[:,self.best_feature_ids]\n",
        "\n",
        "  def fit_transform(self, X, y):\n",
        "    self.fit(X, y)\n",
        "    return self.transform(X)"
      ],
      "execution_count": 7,
      "outputs": []
    },
    {
      "cell_type": "code",
      "metadata": {
        "id": "6mu9gHgNBk_V"
      },
      "source": [
        "num_features_total = 1000\n",
        "num_features_best = 100\n",
        "\n",
        "N = 100\n",
        "\n",
        "# Dataset generation\n",
        "X = np.random.normal(size=(N, num_features_total))\n",
        "y = np.random.randint(2, size=N)"
      ],
      "execution_count": 78,
      "outputs": []
    },
    {
      "cell_type": "code",
      "metadata": {
        "colab": {
          "base_uri": "https://localhost:8080/"
        },
        "id": "z_p4Z8V5SmcZ",
        "outputId": "909fe8ea-f49c-4307-b662-2171c3a6292c"
      },
      "source": [
        "X[:10].shape"
      ],
      "execution_count": 71,
      "outputs": [
        {
          "output_type": "execute_result",
          "data": {
            "text/plain": [
              "(10, 1000)"
            ]
          },
          "metadata": {},
          "execution_count": 71
        }
      ]
    },
    {
      "cell_type": "markdown",
      "metadata": {
        "id": "_UGJt7Xk8HJ0"
      },
      "source": [
        "# Посмотрим, как распределены признаки(спойлер:нормально)"
      ]
    },
    {
      "cell_type": "code",
      "metadata": {
        "colab": {
          "base_uri": "https://localhost:8080/",
          "height": 502
        },
        "id": "5flA0NyB8Nfk",
        "outputId": "00e71416-54cb-4b76-b243-0ce3d738c86f"
      },
      "source": [
        "plt.figure(figsize=(10,8))\n",
        "for i in range(0, N):\n",
        "  plt.hist(X[i], alpha=0.3)"
      ],
      "execution_count": 37,
      "outputs": [
        {
          "output_type": "display_data",
          "data": {
            "image/png": "[encoded data removed]",
            "text/plain": [
              "<Figure size 720x576 with 1 Axes>"
            ]
          },
          "metadata": {
            "needs_background": "light"
          }
        }
      ]
    },
    {
      "cell_type": "code",
      "metadata": {
        "id": "sMb9SCS4aU8G"
      },
      "source": [
        "# Feature selection:\n",
        "X_best = FeatureSelector(num_features_best).fit_transform(X, y)"
      ],
      "execution_count": 75,
      "outputs": []
    },
    {
      "cell_type": "markdown",
      "metadata": {
        "id": "mVtULnEB8X1V"
      },
      "source": [
        "# Как распределены лучшие признаки"
      ]
    },
    {
      "cell_type": "code",
      "metadata": {
        "colab": {
          "base_uri": "https://localhost:8080/",
          "height": 553
        },
        "id": "Gug9MGLm8cK6",
        "outputId": "5a78c311-ef61-4852-9eac-673b2baac2d7"
      },
      "source": [
        "plt.figure(figsize=(10,8))\n",
        "for i in range(0, 10):\n",
        "  plt.hist(X_best[i], alpha=0.3)\n",
        "plt.hist(y)"
      ],
      "execution_count": 38,
      "outputs": [
        {
          "output_type": "execute_result",
          "data": {
            "text/plain": [
              "(array([50.,  0.,  0.,  0.,  0.,  0.,  0.,  0.,  0., 50.]),\n",
              " array([0. , 0.1, 0.2, 0.3, 0.4, 0.5, 0.6, 0.7, 0.8, 0.9, 1. ]),\n",
              " <a list of 10 Patch objects>)"
            ]
          },
          "metadata": {},
          "execution_count": 38
        },
        {
          "output_type": "display_data",
          "data": {
            "image/png": "[encoded data removed]",
            "text/plain": [
              "<Figure size 720x576 with 1 Axes>"
            ]
          },
          "metadata": {
            "needs_background": "light"
          }
        }
      ]
    },
    {
      "cell_type": "code",
      "metadata": {
        "colab": {
          "base_uri": "https://localhost:8080/"
        },
        "id": "5uVs_Ubo3Mmk",
        "outputId": "c0f21eb0-0b6f-4f12-b60b-ca4d051b45a0"
      },
      "source": [
        "# Simple classification model\n",
        "model = LinearSVC()\n",
        "model.fit(X_best, y)\n",
        "y_pred = model.predict(X_best)\n",
        "print(f'score: {skmetrics.accuracy_score(y, y_pred)}')\n",
        "\n",
        "# Estimating accuracy using cross-validation:\n",
        "score = cross_val_score(model, X_best, y, scoring='accuracy', cv=10, n_jobs=-1)\n",
        "print(f\"score {score}\")\n",
        "cv_score = score.mean()\n",
        "print(f\"CV score is {cv_score}\")"
      ],
      "execution_count": 76,
      "outputs": [
        {
          "output_type": "stream",
          "name": "stdout",
          "text": [
            "score: 0.85\n",
            "score [0.7 0.8 0.5 0.8 0.8 0.8 0.9 0.7 0.8 0.8]\n",
            "CV score is 0.76\n"
          ]
        }
      ]
    },
    {
      "cell_type": "code",
      "metadata": {
        "colab": {
          "base_uri": "https://localhost:8080/"
        },
        "id": "4BwtlY9V7gER",
        "outputId": "800c276c-3a49-4588-8803-96954b382047"
      },
      "source": [
        "\n",
        "# Simple classification model\n",
        "model = LinearSVC()\n",
        "model.fit(X_best, y)\n",
        "y_pred = model.predict(X_best)\n",
        "print(f'score: {skmetrics.accuracy_score(y, y_pred)}')\n",
        "\n",
        "# Estimating accuracy using cross-validation:\n",
        "score = cross_val_score(model, X_best, y, scoring='accuracy', cv=10, n_jobs=-1)\n",
        "print(f\"score {score}\")\n",
        "cv_score = score.mean()\n",
        "print(f\"CV score is {cv_score}\")"
      ],
      "execution_count": 51,
      "outputs": [
        {
          "output_type": "stream",
          "name": "stdout",
          "text": [
            "score: 1.0\n",
            "score [0.9 1.  0.9 1.  0.8 0.9 1.  0.8 0.9 1. ]\n",
            "CV score is 0.9199999999999999\n"
          ]
        }
      ]
    },
    {
      "cell_type": "markdown",
      "metadata": {
        "id": "0sg2gGdeB-vE"
      },
      "source": [
        "# Линейная регрессия на лучших признаках"
      ]
    },
    {
      "cell_type": "code",
      "metadata": {
        "colab": {
          "base_uri": "https://localhost:8080/",
          "height": 519
        },
        "id": "3oJiiIjemHtJ",
        "outputId": "ce529f25-e863-4ed4-ae45-5545e1fc7117"
      },
      "source": [
        "model = LinearRegression()\n",
        "model.fit(X_best, y)\n",
        "preds = model.predict(X_best)\n",
        "plt.figure(figsize=(10,8))\n",
        "plt.hist(np.abs(y - y_pred))\n",
        "y_pred = np.where(preds < 1, 0, 1)\n",
        "print(skmetrics.accuracy_score(y, y_pred))"
      ],
      "execution_count": 50,
      "outputs": [
        {
          "output_type": "stream",
          "name": "stdout",
          "text": [
            "0.68\n"
          ]
        },
        {
          "output_type": "display_data",
          "data": {
            "image/png": "[encoded data removed]",
            "text/plain": [
              "<Figure size 720x576 with 1 Axes>"
            ]
          },
          "metadata": {
            "needs_background": "light"
          }
        }
      ]
    },
    {
      "cell_type": "markdown",
      "metadata": {
        "id": "afadN3ZVFKjF"
      },
      "source": [
        "What's going on?! Why accuracy is so high?\n",
        "\n",
        "Maybe it just happened by chance? Let's repeat this experiment many times and histogram the results:"
      ]
    },
    {
      "cell_type": "code",
      "metadata": {
        "id": "QDbOMXnuC6uw",
        "colab": {
          "base_uri": "https://localhost:8080/",
          "height": 284
        },
        "outputId": "01e845df-10eb-4198-f0f6-a1778c7035e3"
      },
      "source": [
        "num_features_total = 1000\n",
        "num_features_best = 100\n",
        "\n",
        "N = 100\n",
        "def experiment():\n",
        "  # Dataset generation\n",
        "  X = np.random.normal(size=(N, num_features_total))\n",
        "  y = np.random.randint(2, size=N)\n",
        "\n",
        "  # Feature selection:\n",
        "  X_best = FeatureSelector(num_features_best).fit_transform(X, y)\n",
        "\n",
        "  # Simple classification model\n",
        "  model = LinearSVC()\n",
        "\n",
        "  # Estimatin accuracy using cross-validation:\n",
        "  return cross_val_score(model, X_best, y, scoring='accuracy', cv=10, n_jobs=-1).mean()\n",
        "\n",
        "results = [experiment() for _ in range(100)]\n",
        "plt.hist(results, bins=10);"
      ],
      "execution_count": 52,
      "outputs": [
        {
          "output_type": "display_data",
          "data": {
            "image/png": "[encoded data removed]",
            "text/plain": [
              "<Figure size 432x288 with 1 Axes>"
            ]
          },
          "metadata": {
            "needs_background": "light"
          }
        }
      ]
    },
    {
      "cell_type": "markdown",
      "metadata": {
        "id": "8bLaEypoF5pb"
      },
      "source": [
        "Explain why the estimated model accuracy is not 50% on a dataset where targets were generated **independently from the features (!!!)**.\n",
        "\n",
        "Find and fix the problem (don't change the dataset generation or its parameters - `num_features_total`, `num_features_best`, `N`).\n",
        "\n",
        "*Hint: the problem is in the overall logic, and not a bug in the code.*"
      ]
    },
    {
      "cell_type": "markdown",
      "metadata": {
        "id": "232E061oD5DS"
      },
      "source": [
        ""
      ]
    },
    {
      "cell_type": "markdown",
      "metadata": {
        "id": "IjiQXy5cDv9M"
      },
      "source": [
        "# Попытка объяснения проблемы\n",
        "\n",
        "Я думаю, что проблема заключается в том, что мы изначально отбираем лучшие признаки, рассмотрев ковариацию между ними.\n",
        "\n",
        "**Ковариация** - мера линейной зависимости двух случайных величин. \n",
        "\n",
        "\n",
        "\n",
        "Вектор весов выражается через объекты и метки классов следующим образом(выражение из лекций):\n",
        "\n",
        "$$ \\quad \\boldsymbol w = \\sum\\limits_{i=1}^n \\lambda_i y_i x_i $$\n",
        "\n",
        "Мы выбрали признаки объектов таким образом, что метки классов линейно от них зависят. Если ковариация признак-метка большая, то $$\\lambda_i $$ \n",
        "будет уменьшаться в силу того, что мы минимизируем следующий функционал:\n",
        "$$\n",
        "\\begin{gather}\n",
        "    \\frac{1}{2} \\| \\boldsymbol w \\|^2 + C \\sum_{n=1}^N \\xi_n \\to \\min_{\\boldsymbol w, \\boldsymbol \\xi, b} \\\\\n",
        "\\end{gather}\n",
        "$$\n",
        "И тогда данный объект будет являться опорным для построения разделяющей гиперплоскости. А он линейно зависим с меткой класса. \n",
        "\n",
        "Посмотрим на результаты моделей, обученных на первых 100 признаках и всех признаках.  "
      ]
    },
    {
      "cell_type": "code",
      "metadata": {
        "id": "EfT36WPTLyqB",
        "colab": {
          "base_uri": "https://localhost:8080/",
          "height": 987
        },
        "outputId": "f02b854e-b296-445a-f559-7e5215b3a1d7"
      },
      "source": [
        "num_features_total = 1000\n",
        "num_features_best = 100\n",
        "\n",
        "N = 100\n",
        "def experiment(N_features):\n",
        "  # Dataset generation\n",
        "  X = np.random.normal(size=(N, num_features_total))\n",
        "  y = np.random.randint(2, size=N)\n",
        "\n",
        "  # Feature selection:\n",
        "  #X_best = FeatureSelector(num_features_best).fit_transform(X, y)\n",
        "\n",
        "  # Simple classification model\n",
        "  model = LinearSVC()\n",
        "\n",
        "  # Estimatin accuracy using cross-validation:\n",
        "  return cross_val_score(model, X[:,:N_features+1], y, scoring='accuracy', cv=10, n_jobs=-1).mean()\n",
        "\n",
        "plt.figure(figsize=(10,8))\n",
        "results = [experiment(100) for _ in range(100)]\n",
        "plt.hist(results, bins=10);\n",
        "\n",
        "plt.figure(figsize=(10,8))\n",
        "results = [experiment(1000) for _ in range(100)]\n",
        "plt.hist(results, bins=10);"
      ],
      "execution_count": 67,
      "outputs": [
        {
          "output_type": "display_data",
          "data": {
            "image/png": "[encoded data removed]",
            "text/plain": [
              "<Figure size 720x576 with 1 Axes>"
            ]
          },
          "metadata": {
            "needs_background": "light"
          }
        },
        {
          "output_type": "display_data",
          "data": {
            "image/png": "[encoded data removed]",
            "text/plain": [
              "<Figure size 720x576 with 1 Axes>"
            ]
          },
          "metadata": {
            "needs_background": "light"
          }
        }
      ]
    },
    {
      "cell_type": "markdown",
      "metadata": {
        "id": "VH1fIkOnGOn1"
      },
      "source": [
        "# Наблюдение\n",
        "\n",
        "Видно, что теперь accuracy примерно 50 %, чего и требовалось ожидать."
      ]
    },
    {
      "cell_type": "code",
      "metadata": {
        "id": "Z4HXvhVVE70F"
      },
      "source": [
        ""
      ],
      "execution_count": null,
      "outputs": []
    }
  ]
}