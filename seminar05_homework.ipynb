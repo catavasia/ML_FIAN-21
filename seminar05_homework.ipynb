{
  "nbformat": 4,
  "nbformat_minor": 0,
  "metadata": {
    "colab": {
      "name": "seminar05_homework.ipynb",
      "provenance": [],
      "collapsed_sections": [],
      "include_colab_link": true
    },
    "kernelspec": {
      "display_name": "Python 3",
      "name": "python3"
    }
  },
  "cells": [
    {
      "cell_type": "markdown",
      "metadata": {
        "id": "view-in-github",
        "colab_type": "text"
      },
      "source": [
        "<a href=\"https://colab.research.google.com/github/catavasia/ML_FIAN-21/blob/main/seminar05_homework.ipynb\" target=\"_parent\"><img src=\"https://colab.research.google.com/assets/colab-badge.svg\" alt=\"Open In Colab\"/></a>"
      ]
    },
    {
      "cell_type": "markdown",
      "metadata": {
        "id": "Ij_zY4soDF2Z"
      },
      "source": [
        "# Cross-validation riddle"
      ]
    },
    {
      "cell_type": "markdown",
      "metadata": {
        "id": "qUCsY5OlDJPl"
      },
      "source": [
        "Here's a small example of cross-validation done wrongly. Can you spot the problem?"
      ]
    },
    {
      "cell_type": "code",
      "metadata": {
        "id": "mSUzkXsC-R4H"
      },
      "source": [
        "# Some imports...\n",
        "import numpy as np\n",
        "import matplotlib.pyplot as plt\n",
        "\n",
        "from sklearn.linear_model import LinearRegression\n",
        "from sklearn.svm import LinearSVC\n",
        "from sklearn.model_selection import KFold, cross_val_score\n",
        "from sklearn.metrics import accuracy_score\n",
        "\n",
        "from sklearn.model_selection import train_test_split\n",
        "import sklearn.metrics as skmetrics\n",
        "from sklearn.model_selection import KFold\n"
      ],
      "execution_count": 1,
      "outputs": []
    },
    {
      "cell_type": "markdown",
      "metadata": {
        "id": "ZyDp3Xc_DaDM"
      },
      "source": [
        "**Plan:**\n",
        "\n",
        "- Let's create a binary classification dataset where targets are completely independent from the features\n",
        "  - *(i.e. no model could ever predict them well)*\n",
        "- We'll do some simple feature selection\n",
        "- And cross-validate a model on this data\n",
        "\n",
        "**Q:** what accuracy do we expect (classes are even)?"
      ]
    },
    {
      "cell_type": "markdown",
      "metadata": {
        "id": "IHx51DKP8Rcf"
      },
      "source": [
        "We'll start from writing a class to select the best features:"
      ]
    },
    {
      "cell_type": "code",
      "metadata": {
        "id": "rRNmKZJJ8W7x"
      },
      "source": [
        "class FeatureSelector:\n",
        "  def __init__(self, num_features):\n",
        "    self.n = num_features # number of best features to select\n",
        "\n",
        "  def fit(self, X, y):\n",
        "    # Select features that describe the targets best, i.e. have\n",
        "    # highest correlation with them:\n",
        "\n",
        "    covariance = ((X - X.mean(axis=0)) * (y[:,np.newaxis] - y.mean())).mean(axis=0)\n",
        "\n",
        "    # plt.figure(figsize=(10, 8))\n",
        "    # plt.hist(covariance, bins=10)\n",
        "    # plt.xlabel('Covariance', fontsize=40)\n",
        "    # plt.ylabel('N', size=40)     \n",
        "    # plt.rc('xtick', labelsize=30)\n",
        "    # plt.rc('ytick', labelsize=30)\n",
        "\n",
        "    self.best_feature_ids = np.argsort(np.abs(covariance))[-self.n:]\n",
        "\n",
        "    # plt.figure(figsize=(10, 8))\n",
        "    # plt.hist(covariance[-self.n:])\n",
        "    # plt.xlabel('Covarience', fontsize=40)\n",
        "    # plt.ylabel('N', size=40)     \n",
        "\n",
        "  def best_index(self, X, y):\n",
        "    covariance = ((X - X.mean(axis=0)) * (y[:,np.newaxis] - y.mean())).mean(axis=0)\n",
        "    return np.argsort(np.abs(covariance))[-self.n:]\n",
        "\n",
        "\n",
        "  def transform(self, X):\n",
        "    return X[:,self.best_feature_ids]\n",
        "\n",
        "  def fit_transform(self, X, y):\n",
        "    self.fit(X, y)\n",
        "    return self.transform(X)"
      ],
      "execution_count": 37,
      "outputs": []
    },
    {
      "cell_type": "code",
      "metadata": {
        "id": "6mu9gHgNBk_V"
      },
      "source": [
        "num_features_total = 1000\n",
        "num_features_best = 100\n",
        "\n",
        "N = 100\n",
        "\n",
        "# Dataset generation\n",
        "X = np.random.normal(size=(N, num_features_total))\n",
        "y = np.random.randint(2, size=N)"
      ],
      "execution_count": 38,
      "outputs": []
    },
    {
      "cell_type": "code",
      "metadata": {
        "id": "3M818lOgcYAr",
        "colab": {
          "base_uri": "https://localhost:8080/"
        },
        "outputId": "e37681ad-0f9d-4336-cf91-edca60b30820"
      },
      "source": [
        "# Feature selection:\n",
        "X_best = FeatureSelector(num_features_best).fit_transform(X, y)\n",
        "X[:,np.sort(FeatureSelector(num_features_best).best_index(X, y))]"
      ],
      "execution_count": 44,
      "outputs": [
        {
          "output_type": "execute_result",
          "data": {
            "text/plain": [
              "array([[-0.11121418, -0.6162633 , -0.54862726, ...,  0.45436006,\n",
              "        -0.72084761,  0.25852764],\n",
              "       [-0.20597967,  1.01514056, -1.69784511, ..., -0.7107022 ,\n",
              "        -0.72220706, -0.66757048],\n",
              "       [ 1.14531093, -2.29935827,  1.20088522, ..., -0.88963776,\n",
              "         1.7186034 ,  1.20137827],\n",
              "       ...,\n",
              "       [-0.65061323,  0.96790089,  0.33318914, ..., -0.98119254,\n",
              "         0.33994   , -0.59469617],\n",
              "       [-1.61218259, -0.84579808,  0.92814522, ..., -1.03922707,\n",
              "        -0.66551709,  0.36789514],\n",
              "       [-0.81467255, -1.57022002,  0.98430574, ...,  0.76411053,\n",
              "         0.75841569,  0.9425086 ]])"
            ]
          },
          "metadata": {},
          "execution_count": 44
        }
      ]
    },
    {
      "cell_type": "code",
      "metadata": {
        "colab": {
          "base_uri": "https://localhost:8080/"
        },
        "id": "qA6uwilFGycT",
        "outputId": "842c1a11-1f67-444f-d82c-6c4ab5490f4c"
      },
      "source": [
        "np.argsort(X_best)"
      ],
      "execution_count": 31,
      "outputs": [
        {
          "output_type": "execute_result",
          "data": {
            "text/plain": [
              "array([[98, 57, 75, ..., 37,  0, 92],\n",
              "       [23, 10, 92, ..., 55, 24, 85],\n",
              "       [33, 26, 73, ..., 34, 85, 11],\n",
              "       ...,\n",
              "       [34, 22, 19, ...,  1, 60, 43],\n",
              "       [ 0, 72, 70, ..., 33, 40, 73],\n",
              "       [34, 36, 81, ..., 96, 65,  4]])"
            ]
          },
          "metadata": {},
          "execution_count": 31
        }
      ]
    },
    {
      "cell_type": "code",
      "metadata": {
        "colab": {
          "base_uri": "https://localhost:8080/"
        },
        "id": "5uVs_Ubo3Mmk",
        "outputId": "f6ae8a09-4f86-4ea2-8268-ef7bdbd42184"
      },
      "source": [
        "# Simple classification model\n",
        "model = LinearSVC()\n",
        "model.fit(X_best, y)\n",
        "y_pred = model.predict(X_best)\n",
        "print(f'score: {skmetrics.accuracy_score(y, y_pred)}')\n",
        "\n",
        "# Estimating accuracy using cross-validation:\n",
        "score = cross_val_score(model, X_best, y, scoring='accuracy', cv=10, n_jobs=-1)\n",
        "print(f\"score {score}\")\n",
        "cv_score = score.mean()\n",
        "print(f\"CV score is {cv_score}\")"
      ],
      "execution_count": 12,
      "outputs": [
        {
          "output_type": "stream",
          "name": "stdout",
          "text": [
            "score: 1.0\n",
            "score [0.9 0.9 0.8 0.8 0.8 1.  0.7 0.9 1.  0.8]\n",
            "CV score is 0.8600000000000001\n"
          ]
        }
      ]
    },
    {
      "cell_type": "markdown",
      "metadata": {
        "id": "afadN3ZVFKjF"
      },
      "source": [
        "What's going on?! Why accuracy is so high?\n",
        "\n",
        "Maybe it just happened by chance? Let's repeat this experiment many times and histogram the results:"
      ]
    },
    {
      "cell_type": "code",
      "metadata": {
        "colab": {
          "base_uri": "https://localhost:8080/",
          "height": 265
        },
        "id": "QDbOMXnuC6uw",
        "outputId": "3edc975b-d7ae-4030-cb7e-913f14248e3e"
      },
      "source": [
        "num_features_total = 1000\n",
        "num_features_best = 100\n",
        "\n",
        "N = 100\n",
        "def experiment():\n",
        "  # Dataset generation\n",
        "  X = np.random.normal(size=(N, num_features_total))\n",
        "  y = np.random.randint(2, size=N)\n",
        "\n",
        "  # Feature selection:\n",
        "  X_best = FeatureSelector(num_features_best).fit_transform(X, y)\n",
        "\n",
        "  # Simple classification model\n",
        "  model = LinearSVC()\n",
        "\n",
        "  # Estimatin accuracy using cross-validation:\n",
        "  return cross_val_score(model, X_best, y, scoring='accuracy', cv=10, n_jobs=-1).mean()\n",
        "\n",
        "results = [experiment() for _ in range(100)]\n",
        "plt.hist(results, bins=10);"
      ],
      "execution_count": 13,
      "outputs": [
        {
          "output_type": "display_data",
          "data": {
            "image/png": "[encoded data removed]",
            "text/plain": [
              "<Figure size 432x288 with 1 Axes>"
            ]
          },
          "metadata": {
            "needs_background": "light"
          }
        }
      ]
    },
    {
      "cell_type": "markdown",
      "metadata": {
        "id": "8bLaEypoF5pb"
      },
      "source": [
        "Explain why the estimated model accuracy is not 50% on a dataset where targets were generated **independently from the features (!!!)**.\n",
        "\n",
        "Find and fix the problem (don't change the dataset generation or its parameters - `num_features_total`, `num_features_best`, `N`).\n",
        "\n",
        "*Hint: the problem is in the overall logic, and not a bug in the code.*"
      ]
    },
    {
      "cell_type": "markdown",
      "metadata": {
        "id": "VW2F1BlafeyW"
      },
      "source": [
        "# Попытка объяснения"
      ]
    },
    {
      "cell_type": "markdown",
      "metadata": {
        "id": "embwjPuZrwqF"
      },
      "source": [
        "Проблема в том, что мы отбираем лучшие признаки на всей выборке. И когда мы смотрим результаты работы обученной модели на тестовой выборке, то признаки и метки тестовой выборки уже не являются независимыми величинами. Поэтому получался такой хороший результат для `accuracy`.\n",
        "\n"
      ]
    },
    {
      "cell_type": "markdown",
      "metadata": {
        "id": "5aWsfLf6uHQl"
      },
      "source": [
        "Теперь будем делать следующим образом:\n",
        "\n",
        "- сначала разобъем выборку на $K$ частей. На $(K - 1)$ частях будем выделять лучшие признаки и обучать модель. На $K$-ой части будем тоже отбирать лучшие признаки и применять уже обученную модель. Тогда лучшие признаки, используемые при обучении, и метки тестовой выборки, будут независимыми величинами."
      ]
    },
    {
      "cell_type": "code",
      "metadata": {
        "colab": {
          "base_uri": "https://localhost:8080/",
          "height": 265
        },
        "id": "j1SGFV0nfaPx",
        "outputId": "6f658ba2-ef34-4045-de22-82f10121b5d4"
      },
      "source": [
        "num_features_total = 1000\n",
        "num_features_best = 100\n",
        "\n",
        "N = 100\n",
        "def experiment():\n",
        "  # Dataset generation\n",
        "  X = np.random.normal(size=(N, num_features_total))\n",
        "  y = np.random.randint(2, size=N)\n",
        "\n",
        "  score = []\n",
        "  kf = KFold(n_splits=5)\n",
        "  for train, test in kf.split(X, y):\n",
        "    #print(\"%s %s\" % (train, test))\n",
        "    X_train, X_test = X[train], X[test]\n",
        "    y_train, y_test = y[train], y[test]\n",
        "\n",
        "    X_train_best = FeatureSelector(num_features_best).fit_transform(X_train, y_train)\n",
        "    best_feature_index = FeatureSelector(num_features_best).best_index(X_train, y_train)\n",
        "    X_test_best = X_test[:,np.sort(FeatureSelector(num_features_best).best_index(X_train, y_train))]\n",
        "\n",
        "    model = LinearSVC()\n",
        "    model.fit(X_train_best, y_train)\n",
        "    y_pred = model.predict(X_test_best)\n",
        "    accuracy_score = skmetrics.accuracy_score(y_test, y_pred)\n",
        "    #print(f'score: {accuracy_score}')\n",
        "    score.append(accuracy_score)\n",
        "  return np.array(score).mean()\n",
        "\n",
        "results = [experiment() for _ in range(100)]\n",
        "plt.hist(results, bins=10);\n"
      ],
      "execution_count": 48,
      "outputs": [
        {
          "output_type": "display_data",
          "data": {
            "image/png": "[encoded data removed]",
            "text/plain": [
              "<Figure size 432x288 with 1 Axes>"
            ]
          },
          "metadata": {
            "needs_background": "light"
          }
        }
      ]
    },
    {
      "cell_type": "markdown",
      "metadata": {
        "id": "232E061oD5DS"
      },
      "source": [
        "Среднее значение для `accuracy` около 0.5, что и ожидалось."
      ]
    },
    {
      "cell_type": "code",
      "metadata": {
        "id": "Bd1ExYpVu1Wb"
      },
      "source": [
        ""
      ],
      "execution_count": 47,
      "outputs": []
    }
  ]
}